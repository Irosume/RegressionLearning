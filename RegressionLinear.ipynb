{
 "cells": [
  {
   "cell_type": "markdown",
   "metadata": {
    "id": "UGG_hEupvn0T"
   },
   "source": [
    "# **LIST KETERANGAN**\n",
    "**A.   Mengimport libraries**\n",
    "\n",
    "**B.   Mengatur dataset**\n",
    "\n",
    "**C.   Data Preprocessing/Cleaning**\n",
    "\n",
    "**D.   Model Regresi Linear**\n",
    "\n",
    "**E.   Plotting**\n"
   ]
  },
  {
   "cell_type": "markdown",
   "metadata": {
    "id": "H4IV1hYqwy8i"
   },
   "source": [
    "# **A. Mengimport libraries**"
   ]
  },
  {
   "cell_type": "markdown",
   "metadata": {
    "id": "bIukLCEyNz5T"
   },
   "source": [
    "**Mengimport library yang dibutuhkan.**"
   ]
  },
  {
   "cell_type": "code",
   "execution_count": 4,
   "metadata": {
    "executionInfo": {
     "elapsed": 794,
     "status": "ok",
     "timestamp": 1732507775697,
     "user": {
      "displayName": "Nouval Syahputra",
      "userId": "09470702416941146123"
     },
     "user_tz": -420
    },
    "id": "t5EJHXfZNhBK"
   },
   "outputs": [],
   "source": [
    "import numpy as np\n",
    "import pandas as pd\n",
    "import matplotlib.pyplot as plt"
   ]
  },
  {
   "cell_type": "markdown",
   "metadata": {
    "id": "5cSEjmblxEbC"
   },
   "source": [
    "# **B. Mengatur dataset**"
   ]
  },
  {
   "cell_type": "markdown",
   "metadata": {
    "id": "1ZG6_ymdOiYE"
   },
   "source": [
    "**B.1 Mengimport dataset.**"
   ]
  },
  {
   "cell_type": "code",
   "execution_count": 5,
   "metadata": {
    "executionInfo": {
     "elapsed": 828,
     "status": "ok",
     "timestamp": 1732507776521,
     "user": {
      "displayName": "Nouval Syahputra",
      "userId": "09470702416941146123"
     },
     "user_tz": -420
    },
    "id": "4MTdbebvOm_8"
   },
   "outputs": [],
   "source": [
    "# Google Drive\n",
    "ds = pd.read_csv(\"score.csv\")\n",
    "\n",
    "# File\n",
    "# ds = pd.read_csv(\"score.csv\")"
   ]
  },
  {
   "cell_type": "markdown",
   "metadata": {
    "id": "eHFFu7o0PBIM"
   },
   "source": [
    "**B.2 Memastikan dataset sudah terimpor dengan benar.**"
   ]
  },
  {
   "cell_type": "code",
   "execution_count": 6,
   "metadata": {
    "colab": {
     "base_uri": "https://localhost:8080/"
    },
    "executionInfo": {
     "elapsed": 26,
     "status": "ok",
     "timestamp": 1732507776521,
     "user": {
      "displayName": "Nouval Syahputra",
      "userId": "09470702416941146123"
     },
     "user_tz": -420
    },
    "id": "rsijI-YkO9Ul",
    "outputId": "7ad0d43a-1671-47d1-c218-ef672b491b17"
   },
   "outputs": [
    {
     "name": "stdout",
     "output_type": "stream",
     "text": [
      "    Hours  Scores\n",
      "0     2.5    21.0\n",
      "1     5.1    47.0\n",
      "2     3.2    27.0\n",
      "3     8.5    75.0\n",
      "4     3.5    30.0\n",
      "..    ...     ...\n",
      "93    6.1     NaN\n",
      "94    3.7    37.0\n",
      "95    8.0    84.0\n",
      "96    7.3   820.0\n",
      "97    1.2   -12.0\n",
      "\n",
      "[98 rows x 2 columns]\n"
     ]
    }
   ],
   "source": [
    "print(ds)"
   ]
  },
  {
   "cell_type": "markdown",
   "metadata": {
    "id": "Tjns6eIOxLIK"
   },
   "source": [
    "# **C. Data Preprocessing/Cleaning**"
   ]
  },
  {
   "cell_type": "markdown",
   "metadata": {
    "id": "dqcylguxPPzl"
   },
   "source": [
    "**C.1 Memperiksa dan menghitung data yang kosong didalam dataset.**"
   ]
  },
  {
   "cell_type": "code",
   "execution_count": 7,
   "metadata": {
    "colab": {
     "base_uri": "https://localhost:8080/",
     "height": 147
    },
    "executionInfo": {
     "elapsed": 23,
     "status": "ok",
     "timestamp": 1732507776522,
     "user": {
      "displayName": "Nouval Syahputra",
      "userId": "09470702416941146123"
     },
     "user_tz": -420
    },
    "id": "VngRhcOaPage",
    "outputId": "4ca7bf4f-0b38-49ba-ada6-9e7ab47fdde1"
   },
   "outputs": [
    {
     "data": {
      "text/plain": [
       "Hours     0\n",
       "Scores    6\n",
       "dtype: int64"
      ]
     },
     "execution_count": 7,
     "metadata": {},
     "output_type": "execute_result"
    }
   ],
   "source": [
    "ds.isna().sum()"
   ]
  },
  {
   "cell_type": "markdown",
   "metadata": {
    "id": "OpZObxEjQi8p"
   },
   "source": [
    "**C.2.1 Mengisi data yang kosong dengan menghitung mean dari kolom \"Scores\".**\n",
    "\n",
    "\n",
    "---\n",
    "\n",
    "\n",
    "***(Pilih salah satu)***"
   ]
  },
  {
   "cell_type": "code",
   "execution_count": 8,
   "metadata": {
    "executionInfo": {
     "elapsed": 22,
     "status": "ok",
     "timestamp": 1732507776522,
     "user": {
      "displayName": "Nouval Syahputra",
      "userId": "09470702416941146123"
     },
     "user_tz": -420
    },
    "id": "WSgxfX21QQbJ"
   },
   "outputs": [],
   "source": [
    "ds['Scores'] = ds['Scores'].fillna(ds['Scores'].mean())"
   ]
  },
  {
   "cell_type": "markdown",
   "metadata": {
    "id": "JhivecHQQ7dp"
   },
   "source": [
    "**C.2.2 Menghapus data yang kosong pada dataset.**\n",
    "\n",
    "\n",
    "---\n",
    "\n",
    "***(Pilih salah satu)***"
   ]
  },
  {
   "cell_type": "code",
   "execution_count": 9,
   "metadata": {
    "executionInfo": {
     "elapsed": 21,
     "status": "ok",
     "timestamp": 1732507776522,
     "user": {
      "displayName": "Nouval Syahputra",
      "userId": "09470702416941146123"
     },
     "user_tz": -420
    },
    "id": "iwjgg8uhRIzZ"
   },
   "outputs": [],
   "source": [
    "ds = ds.dropna()"
   ]
  },
  {
   "cell_type": "markdown",
   "metadata": {
    "id": "7zp-znkxRepz"
   },
   "source": [
    "**C.3 Memastikan tidak ada data kosong yang tersisa.**"
   ]
  },
  {
   "cell_type": "code",
   "execution_count": 10,
   "metadata": {
    "colab": {
     "base_uri": "https://localhost:8080/",
     "height": 147
    },
    "executionInfo": {
     "elapsed": 22,
     "status": "ok",
     "timestamp": 1732507776523,
     "user": {
      "displayName": "Nouval Syahputra",
      "userId": "09470702416941146123"
     },
     "user_tz": -420
    },
    "id": "ET6gY94xRmrC",
    "outputId": "99ab46d9-32dc-4725-927b-92d02bde0b4d"
   },
   "outputs": [
    {
     "data": {
      "text/plain": [
       "Hours     0\n",
       "Scores    0\n",
       "dtype: int64"
      ]
     },
     "execution_count": 10,
     "metadata": {},
     "output_type": "execute_result"
    }
   ],
   "source": [
    "ds.isna().sum()"
   ]
  },
  {
   "cell_type": "markdown",
   "metadata": {
    "id": "-HZ31G0vWJ_y"
   },
   "source": [
    "**C.4 Memperiksakan dan menghitung jumlah data yang terduplikat.**"
   ]
  },
  {
   "cell_type": "code",
   "execution_count": 11,
   "metadata": {
    "colab": {
     "base_uri": "https://localhost:8080/"
    },
    "executionInfo": {
     "elapsed": 21,
     "status": "ok",
     "timestamp": 1732507776523,
     "user": {
      "displayName": "Nouval Syahputra",
      "userId": "09470702416941146123"
     },
     "user_tz": -420
    },
    "id": "i_vig2gRWeFy",
    "outputId": "8fa22bae-3ffc-463e-ad72-855371559349"
   },
   "outputs": [
    {
     "name": "stdout",
     "output_type": "stream",
     "text": [
      "Duplicated data : 1\n"
     ]
    }
   ],
   "source": [
    "print(\"Duplicated data :\", ds.duplicated().sum())"
   ]
  },
  {
   "cell_type": "markdown",
   "metadata": {
    "id": "VTdRan9eWqUb"
   },
   "source": [
    "**C.5 Menghapus data yang terduplikat.**"
   ]
  },
  {
   "cell_type": "code",
   "execution_count": 12,
   "metadata": {
    "colab": {
     "base_uri": "https://localhost:8080/"
    },
    "executionInfo": {
     "elapsed": 18,
     "status": "ok",
     "timestamp": 1732507776523,
     "user": {
      "displayName": "Nouval Syahputra",
      "userId": "09470702416941146123"
     },
     "user_tz": -420
    },
    "id": "VEHXdeM0WpeC",
    "outputId": "0db4a4b3-0217-4e37-bf5a-137837bf7b3d"
   },
   "outputs": [
    {
     "name": "stdout",
     "output_type": "stream",
     "text": [
      "Duplicated data : 0\n"
     ]
    }
   ],
   "source": [
    "ds = ds.drop_duplicates()\n",
    "\n",
    "print(\"Duplicated data :\", ds.duplicated().sum())"
   ]
  },
  {
   "cell_type": "markdown",
   "metadata": {
    "id": "wm0CbPEjaCmu"
   },
   "source": [
    "**C.6 Memeriksa keanehan atau anomali pada data.**"
   ]
  },
  {
   "cell_type": "code",
   "execution_count": 13,
   "metadata": {
    "colab": {
     "base_uri": "https://localhost:8080/",
     "height": 300
    },
    "executionInfo": {
     "elapsed": 17,
     "status": "ok",
     "timestamp": 1732507776523,
     "user": {
      "displayName": "Nouval Syahputra",
      "userId": "09470702416941146123"
     },
     "user_tz": -420
    },
    "id": "i6fkmyNUaAGA",
    "outputId": "f41ecd57-154c-4dac-f733-f2c739fa940b"
   },
   "outputs": [
    {
     "data": {
      "text/html": [
       "<div>\n",
       "<style scoped>\n",
       "    .dataframe tbody tr th:only-of-type {\n",
       "        vertical-align: middle;\n",
       "    }\n",
       "\n",
       "    .dataframe tbody tr th {\n",
       "        vertical-align: top;\n",
       "    }\n",
       "\n",
       "    .dataframe thead th {\n",
       "        text-align: right;\n",
       "    }\n",
       "</style>\n",
       "<table border=\"1\" class=\"dataframe\">\n",
       "  <thead>\n",
       "    <tr style=\"text-align: right;\">\n",
       "      <th></th>\n",
       "      <th>Hours</th>\n",
       "      <th>Scores</th>\n",
       "    </tr>\n",
       "  </thead>\n",
       "  <tbody>\n",
       "    <tr>\n",
       "      <th>count</th>\n",
       "      <td>97.000000</td>\n",
       "      <td>97.000000</td>\n",
       "    </tr>\n",
       "    <tr>\n",
       "      <th>mean</th>\n",
       "      <td>5.201031</td>\n",
       "      <td>60.577544</td>\n",
       "    </tr>\n",
       "    <tr>\n",
       "      <th>std</th>\n",
       "      <td>2.612689</td>\n",
       "      <td>81.798426</td>\n",
       "    </tr>\n",
       "    <tr>\n",
       "      <th>min</th>\n",
       "      <td>0.000000</td>\n",
       "      <td>-12.000000</td>\n",
       "    </tr>\n",
       "    <tr>\n",
       "      <th>25%</th>\n",
       "      <td>3.000000</td>\n",
       "      <td>30.000000</td>\n",
       "    </tr>\n",
       "    <tr>\n",
       "      <th>50%</th>\n",
       "      <td>5.300000</td>\n",
       "      <td>56.000000</td>\n",
       "    </tr>\n",
       "    <tr>\n",
       "      <th>75%</th>\n",
       "      <td>7.300000</td>\n",
       "      <td>72.000000</td>\n",
       "    </tr>\n",
       "    <tr>\n",
       "      <th>max</th>\n",
       "      <td>9.800000</td>\n",
       "      <td>820.000000</td>\n",
       "    </tr>\n",
       "  </tbody>\n",
       "</table>\n",
       "</div>"
      ],
      "text/plain": [
       "           Hours      Scores\n",
       "count  97.000000   97.000000\n",
       "mean    5.201031   60.577544\n",
       "std     2.612689   81.798426\n",
       "min     0.000000  -12.000000\n",
       "25%     3.000000   30.000000\n",
       "50%     5.300000   56.000000\n",
       "75%     7.300000   72.000000\n",
       "max     9.800000  820.000000"
      ]
     },
     "execution_count": 13,
     "metadata": {},
     "output_type": "execute_result"
    }
   ],
   "source": [
    "ds.describe()"
   ]
  },
  {
   "cell_type": "markdown",
   "metadata": {
    "id": "RH0tKZNWaNcG"
   },
   "source": [
    "**C.7 Menghilangkan outliers atau data yang anomali.**"
   ]
  },
  {
   "cell_type": "code",
   "execution_count": 14,
   "metadata": {
    "colab": {
     "base_uri": "https://localhost:8080/",
     "height": 300
    },
    "executionInfo": {
     "elapsed": 16,
     "status": "ok",
     "timestamp": 1732507776523,
     "user": {
      "displayName": "Nouval Syahputra",
      "userId": "09470702416941146123"
     },
     "user_tz": -420
    },
    "id": "KqdfwbOUaaPf",
    "outputId": "0fa3a8f8-7b8b-4894-bce7-3c28687b330f"
   },
   "outputs": [
    {
     "data": {
      "text/html": [
       "<div>\n",
       "<style scoped>\n",
       "    .dataframe tbody tr th:only-of-type {\n",
       "        vertical-align: middle;\n",
       "    }\n",
       "\n",
       "    .dataframe tbody tr th {\n",
       "        vertical-align: top;\n",
       "    }\n",
       "\n",
       "    .dataframe thead th {\n",
       "        text-align: right;\n",
       "    }\n",
       "</style>\n",
       "<table border=\"1\" class=\"dataframe\">\n",
       "  <thead>\n",
       "    <tr style=\"text-align: right;\">\n",
       "      <th></th>\n",
       "      <th>Hours</th>\n",
       "      <th>Scores</th>\n",
       "    </tr>\n",
       "  </thead>\n",
       "  <tbody>\n",
       "    <tr>\n",
       "      <th>count</th>\n",
       "      <td>93.000000</td>\n",
       "      <td>93.000000</td>\n",
       "    </tr>\n",
       "    <tr>\n",
       "      <th>mean</th>\n",
       "      <td>5.333333</td>\n",
       "      <td>53.742169</td>\n",
       "    </tr>\n",
       "    <tr>\n",
       "      <th>std</th>\n",
       "      <td>2.509042</td>\n",
       "      <td>24.294113</td>\n",
       "    </tr>\n",
       "    <tr>\n",
       "      <th>min</th>\n",
       "      <td>1.000000</td>\n",
       "      <td>12.000000</td>\n",
       "    </tr>\n",
       "    <tr>\n",
       "      <th>25%</th>\n",
       "      <td>3.100000</td>\n",
       "      <td>31.000000</td>\n",
       "    </tr>\n",
       "    <tr>\n",
       "      <th>50%</th>\n",
       "      <td>5.400000</td>\n",
       "      <td>57.000000</td>\n",
       "    </tr>\n",
       "    <tr>\n",
       "      <th>75%</th>\n",
       "      <td>7.400000</td>\n",
       "      <td>72.000000</td>\n",
       "    </tr>\n",
       "    <tr>\n",
       "      <th>max</th>\n",
       "      <td>9.800000</td>\n",
       "      <td>99.000000</td>\n",
       "    </tr>\n",
       "  </tbody>\n",
       "</table>\n",
       "</div>"
      ],
      "text/plain": [
       "           Hours     Scores\n",
       "count  93.000000  93.000000\n",
       "mean    5.333333  53.742169\n",
       "std     2.509042  24.294113\n",
       "min     1.000000  12.000000\n",
       "25%     3.100000  31.000000\n",
       "50%     5.400000  57.000000\n",
       "75%     7.400000  72.000000\n",
       "max     9.800000  99.000000"
      ]
     },
     "execution_count": 14,
     "metadata": {},
     "output_type": "execute_result"
    }
   ],
   "source": [
    "ds = ds[(ds['Scores'] >= 0) & (ds['Scores'] <= 100) & (ds['Hours'] > 0)]\n",
    "ds.describe()"
   ]
  },
  {
   "cell_type": "markdown",
   "metadata": {
    "id": "LgFurZJ1xjOX"
   },
   "source": [
    "# **D. Model Linear Regression**"
   ]
  },
  {
   "cell_type": "markdown",
   "metadata": {
    "id": "NJgwW0gUXWG7"
   },
   "source": [
    "**D.1 Menentukan variabel Independen (X) dan Dependen (Y)**"
   ]
  },
  {
   "cell_type": "code",
   "execution_count": 15,
   "metadata": {
    "executionInfo": {
     "elapsed": 15,
     "status": "ok",
     "timestamp": 1732507776523,
     "user": {
      "displayName": "Nouval Syahputra",
      "userId": "09470702416941146123"
     },
     "user_tz": -420
    },
    "id": "AyyLpXN3YRJ9"
   },
   "outputs": [],
   "source": [
    "x = np.array(ds['Hours'])\n",
    "y = np.array(ds['Scores'])"
   ]
  },
  {
   "cell_type": "code",
   "execution_count": 16,
   "metadata": {
    "colab": {
     "base_uri": "https://localhost:8080/",
     "height": 430
    },
    "executionInfo": {
     "elapsed": 787,
     "status": "ok",
     "timestamp": 1732507777295,
     "user": {
      "displayName": "Nouval Syahputra",
      "userId": "09470702416941146123"
     },
     "user_tz": -420
    },
    "id": "PTboQ60TZaYO",
    "outputId": "581a9cd4-1b1f-42e5-d246-2924a6125523"
   },
   "outputs": [
    {
     "data": {
      "image/png": "[encoded data removed]",
      "text/plain": [
       "<Figure size 640x480 with 1 Axes>"
      ]
     },
     "metadata": {},
     "output_type": "display_data"
    }
   ],
   "source": [
    "plt.scatter(x, y, color=\"red\")\n",
    "plt.show()"
   ]
  },
  {
   "cell_type": "markdown",
   "metadata": {
    "id": "d9KccsJQn_eQ"
   },
   "source": [
    "**D.2 Menghitung jumlah dari setiap kolom yang ada didataset.**"
   ]
  },
  {
   "cell_type": "code",
   "execution_count": 17,
   "metadata": {
    "colab": {
     "base_uri": "https://localhost:8080/"
    },
    "executionInfo": {
     "elapsed": 23,
     "status": "ok",
     "timestamp": 1732507777296,
     "user": {
      "displayName": "Nouval Syahputra",
      "userId": "09470702416941146123"
     },
     "user_tz": -420
    },
    "id": "zzn0f8YsoJTI",
    "outputId": "7a4e07ef-4a3f-4419-ee74-0dd97ada66c1"
   },
   "outputs": [
    {
     "name": "stdout",
     "output_type": "stream",
     "text": [
      "93\n",
      "93\n"
     ]
    }
   ],
   "source": [
    "countx = len(x)\n",
    "county = len(y)\n",
    "\n",
    "print(countx)\n",
    "print(county)"
   ]
  },
  {
   "cell_type": "markdown",
   "metadata": {
    "id": "0tVcttPEpj-J"
   },
   "source": [
    "**D.3 Menghitung rata-rata dari setiap kolom yang ada di dataset.**"
   ]
  },
  {
   "cell_type": "code",
   "execution_count": 18,
   "metadata": {
    "colab": {
     "base_uri": "https://localhost:8080/"
    },
    "executionInfo": {
     "elapsed": 21,
     "status": "ok",
     "timestamp": 1732507777296,
     "user": {
      "displayName": "Nouval Syahputra",
      "userId": "09470702416941146123"
     },
     "user_tz": -420
    },
    "id": "uWbTYof3pq_K",
    "outputId": "c5ef7441-9ecb-44a6-983b-4be230473f48"
   },
   "outputs": [
    {
     "name": "stdout",
     "output_type": "stream",
     "text": [
      "Nilai rata rata X adalah: 5.333333333333333\n",
      "Nilai rata rata Y adalah: 53.74216923796167\n"
     ]
    }
   ],
   "source": [
    "meanx = np.mean(x)\n",
    "meany = np.mean(y)\n",
    "\n",
    "print(\"Nilai rata rata X adalah:\", meanx)\n",
    "print(\"Nilai rata rata Y adalah:\",meany)"
   ]
  },
  {
   "cell_type": "markdown",
   "metadata": {
    "id": "Ftk06Ewapz2x"
   },
   "source": [
    "**D.4 Mencari kovarian dan varian.**"
   ]
  },
  {
   "cell_type": "code",
   "execution_count": 19,
   "metadata": {
    "colab": {
     "base_uri": "https://localhost:8080/"
    },
    "executionInfo": {
     "elapsed": 21,
     "status": "ok",
     "timestamp": 1732507777297,
     "user": {
      "displayName": "Nouval Syahputra",
      "userId": "09470702416941146123"
     },
     "user_tz": -420
    },
    "id": "BRQZtcgYqNkh",
    "outputId": "8e4a32ef-2162-4934-8009-9143249c5668"
   },
   "outputs": [
    {
     "name": "stdout",
     "output_type": "stream",
     "text": [
      "Kovarians nya adalah: 5451.4710144927485\n",
      "Varians nya adalah: 579.166666666667\n"
     ]
    }
   ],
   "source": [
    "sxy = np.sum(x * y) - countx * meanx * meany\n",
    "sxx = np.sum(x * x) - countx * meanx**2\n",
    "\n",
    "print(\"Kovarians nya adalah:\", sxy)\n",
    "print(\"Varians nya adalah:\",sxx)"
   ]
  },
  {
   "cell_type": "markdown",
   "metadata": {
    "id": "HzV0-5JZsI2Z"
   },
   "source": [
    "**D.5 Mencari koefisien dan menemukan Slope (b1) dan Intercept (b0).**\n",
    "\n",
    "\n",
    "\n"
   ]
  },
  {
   "cell_type": "code",
   "execution_count": 20,
   "metadata": {
    "colab": {
     "base_uri": "https://localhost:8080/"
    },
    "executionInfo": {
     "elapsed": 19,
     "status": "ok",
     "timestamp": 1732507777297,
     "user": {
      "displayName": "Nouval Syahputra",
      "userId": "09470702416941146123"
     },
     "user_tz": -420
    },
    "id": "-0m7DHSxsMZZ",
    "outputId": "b48115cd-3cdc-4f57-bbe4-97df7cbc9ee1"
   },
   "outputs": [
    {
     "name": "stdout",
     "output_type": "stream",
     "text": [
      "9.412611823584596\n",
      "3.541572845510494\n"
     ]
    }
   ],
   "source": [
    "b1 = sxy / sxx\n",
    "b0 = meany - b1 * meanx\n",
    "\n",
    "print(b1)\n",
    "print(b0)"
   ]
  },
  {
   "cell_type": "markdown",
   "metadata": {
    "id": "7q0QVYl8sto5"
   },
   "source": [
    "**D.6 Mencari prediksi dari nilai Y.**"
   ]
  },
  {
   "cell_type": "code",
   "execution_count": 21,
   "metadata": {
    "colab": {
     "base_uri": "https://localhost:8080/"
    },
    "executionInfo": {
     "elapsed": 17,
     "status": "ok",
     "timestamp": 1732507777297,
     "user": {
      "displayName": "Nouval Syahputra",
      "userId": "09470702416941146123"
     },
     "user_tz": -420
    },
    "id": "Cx06yoMwslry",
    "outputId": "062918b2-4c23-4d46-c6d1-4c6de413fa29"
   },
   "outputs": [
    {
     "name": "stdout",
     "output_type": "stream",
     "text": [
      "[27.0731024  51.54589315 33.66193068 83.54877335 36.48571423 17.66049058\n",
      " 90.13760162 55.31093788 81.66625098 28.95562477 76.01868389 59.0759826\n",
      " 45.89832605 34.60319186 13.89544585 87.31381808 27.0731024  21.42553531\n",
      " 60.95850497 73.19490034 28.95562477 48.7221096  39.30949778 68.48859443\n",
      " 76.95994507 92.96138517 58.13472142 25.19058004 47.78084842 18.60175176\n",
      " 88.25507926 61.89976615 79.78372862 40.25075896 24.24931886 70.37111679\n",
      " 62.84102733 53.42841551 44.95706487 92.02012399 66.60607206 38.36823659\n",
      " 72.25363916 42.13328132 78.84246743 32.7206695  15.77796822 57.19346024\n",
      " 29.89688595 77.90120625 65.66481088 37.42697541 26.13184122 46.83958723\n",
      " 82.60751216 19.54301295 52.48715433 63.78228852 75.0774227  91.0788628\n",
      " 35.54445305 23.30805768 54.36967669 80.7249898  16.7192294  93.90264635\n",
      " 67.54733325 74.13616152 44.01580369 64.7235497  85.43129571 31.77940832\n",
      " 30.83814713 14.83670703 94.84390753 49.66337078 56.25219906 84.49003453\n",
      " 28.01436359 71.31237798 12.95418467 60.01724379 41.19202014 50.60463196\n",
      " 67.54733325 22.36679649 31.77940832 69.42985561 95.78516872 58.13472142\n",
      " 44.95706487 60.95850497 78.84246743]\n"
     ]
    }
   ],
   "source": [
    "predy = b1 * x + b0\n",
    "\n",
    "print(predy)"
   ]
  },
  {
   "cell_type": "markdown",
   "metadata": {
    "id": "EO6z_uDWxqSC"
   },
   "source": [
    "# **E. Plotting**"
   ]
  },
  {
   "cell_type": "markdown",
   "metadata": {
    "id": "mz_jwA5ntanS"
   },
   "source": [
    "**E. Melakukan plotting dari nilai yang sudah didapatkan.**"
   ]
  },
  {
   "cell_type": "code",
   "execution_count": 22,
   "metadata": {
    "colab": {
     "base_uri": "https://localhost:8080/",
     "height": 449
    },
    "executionInfo": {
     "elapsed": 16,
     "status": "ok",
     "timestamp": 1732507777298,
     "user": {
      "displayName": "Nouval Syahputra",
      "userId": "09470702416941146123"
     },
     "user_tz": -420
    },
    "id": "Ppb0FVIcuWIi",
    "outputId": "47559dd2-038f-47b4-caf2-3fa33bf63f30"
   },
   "outputs": [
    {
     "data": {
      "image/png": "[encoded data removed]",
      "text/plain": [
       "<Figure size 640x480 with 1 Axes>"
      ]
     },
     "metadata": {},
     "output_type": "display_data"
    }
   ],
   "source": [
    "plt.scatter(x,y,color=\"b\")\n",
    "plt.plot(x,predy,color=\"r\")\n",
    "plt.xlabel(\"Hours\")\n",
    "plt.ylabel(\"Scores\")\n",
    "plt.show()"
   ]
  },
  {
   "cell_type": "markdown",
   "metadata": {
    "id": "tiDQ1ubFyC4K"
   },
   "source": [
    "# **F. Evaluasi**"
   ]
  },
  {
   "cell_type": "markdown",
   "metadata": {
    "id": "uck70GeLyIQK"
   },
   "source": [
    "**F. Melakukan evaluasi model menggunakan R Squared**"
   ]
  },
  {
   "cell_type": "code",
   "execution_count": 23,
   "metadata": {
    "colab": {
     "base_uri": "https://localhost:8080/"
    },
    "executionInfo": {
     "elapsed": 15,
     "status": "ok",
     "timestamp": 1732507777298,
     "user": {
      "displayName": "Nouval Syahputra",
      "userId": "09470702416941146123"
     },
     "user_tz": -420
    },
    "id": "vtNK34IYyOKy",
    "outputId": "910dc539-ebed-4e03-acd8-3cc4275993bd"
   },
   "outputs": [
    {
     "name": "stdout",
     "output_type": "stream",
     "text": [
      "The R Squared value is: 0.9450046509360898\n"
     ]
    }
   ],
   "source": [
    "error = y - predy\n",
    "se = np.sum(error**2)\n",
    "\n",
    "sst = np.sum((y - meany)**2)\n",
    "r2 = 1-(se/sst)\n",
    "\n",
    "print(\"The R Squared value is:\", r2)"
   ]
  },
  {
   "cell_type": "code",
   "execution_count": 24,
   "metadata": {
    "colab": {
     "base_uri": "https://localhost:8080/"
    },
    "executionInfo": {
     "elapsed": 12,
     "status": "ok",
     "timestamp": 1732507777298,
     "user": {
      "displayName": "Nouval Syahputra",
      "userId": "09470702416941146123"
     },
     "user_tz": -420
    },
    "id": "_f3cZo9zMd9V",
    "outputId": "d585e516-bf31-4ba2-d04f-333e4ce6ab17"
   },
   "outputs": [
    {
     "data": {
      "text/plain": [
       "np.float64(8.122976766439297)"
      ]
     },
     "execution_count": 24,
     "metadata": {},
     "output_type": "execute_result"
    }
   ],
   "source": [
    "def kalkulasiWaktuBelajar(nilai):\n",
    "  return (nilai - b0) / b1\n",
    "\n",
    "kalkulasiWaktuBelajar(80)"
   ]
  }
 ],
 "metadata": {
  "colab": {
   "authorship_tag": "ABX9TyN+A26+1YFhR10y3qccSOtD",
   "mount_file_id": "1vxWnH9LYT3rxqtbzGNYhIj09RMsq1cd3",
   "provenance": []
  },
  "kernelspec": {
   "display_name": "Python 3 (ipykernel)",
   "language": "python",
   "name": "python3"
  },
  "language_info": {
   "codemirror_mode": {
    "name": "ipython",
    "version": 3
   },
   "file_extension": ".py",
   "mimetype": "text/x-python",
   "name": "python",
   "nbconvert_exporter": "python",
   "pygments_lexer": "ipython3",
   "version": "3.12.7"
  }
 },
 "nbformat": 4,
 "nbformat_minor": 4
}
